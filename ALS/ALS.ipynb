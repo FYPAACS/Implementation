{
 "cells": [
  {
   "cell_type": "markdown",
   "metadata": {},
   "source": [
    "# ALS [Link Spark](https://spark.apache.org/docs/2.2.0/ml-collaborative-filtering.html)"
   ]
  },
  {
   "cell_type": "code",
   "execution_count": 1,
   "metadata": {},
   "outputs": [],
   "source": [
    "# Import dependencies\n",
    "from __future__ import print_function\n",
    "\n",
    "import sys\n",
    "if sys.version >= '3':\n",
    "    long = int\n",
    "    \n",
    "import pandas as pd\n",
    "from pyspark.sql import SparkSession\n",
    "\n",
    "# PySpark ML Imports\n",
    "from pyspark.ml.evaluation import RegressionEvaluator\n",
    "from pyspark.ml.recommendation import ALS\n",
    "from pyspark.sql import Row\n",
    "\n",
    "# SparkContext\n",
    "from pyspark import SparkContext\n",
    "\n",
    "# PySpark ML Imports\n",
    "\n",
    "from pprint import pprint"
   ]
  },
  {
   "cell_type": "code",
   "execution_count": 2,
   "metadata": {},
   "outputs": [],
   "source": [
    "if __name__ == \"__main__\":\n",
    "    spark = SparkSession\\\n",
    "        .builder\\\n",
    "        .appName(\"ALSExample\")\\\n",
    "        .getOrCreate()"
   ]
  },
  {
   "cell_type": "code",
   "execution_count": 3,
   "metadata": {},
   "outputs": [],
   "source": [
    "# Load data\n",
    "df = pd.DataFrame()\n",
    "df = pd.read_csv('TopStaredRepositories.csv')"
   ]
  },
  {
   "cell_type": "code",
   "execution_count": 4,
   "metadata": {},
   "outputs": [
    {
     "name": "stdout",
     "output_type": "stream",
     "text": [
      "       Username Repository Name Number of Stars\n",
      "0  freeCodeCamp    freeCodeCamp            290k\n",
      "1          twbs       bootstrap            112k\n"
     ]
    }
   ],
   "source": [
    "# Remove columns not needed\n",
    "#df.set_index(['Repository Name'])\n",
    "COLUMNS_TO_REMOVE_LIST = ['Description',\n",
    "                          'Last Update Date', 'Language', \n",
    "                          'Tags', 'Url','Gravatar' ,'Unnamed: 0']\n",
    "\n",
    "\n",
    "\n",
    "for column in COLUMNS_TO_REMOVE_LIST :\n",
    "    try:\n",
    "        del df[column]\n",
    "    except Exception:\n",
    "        pass\n",
    "print(df.head(2))"
   ]
  },
  {
   "cell_type": "code",
   "execution_count": 5,
   "metadata": {},
   "outputs": [
    {
     "data": {
      "text/plain": [
       "980"
      ]
     },
     "execution_count": 5,
     "metadata": {},
     "output_type": "execute_result"
    }
   ],
   "source": [
    "# DF User\n",
    "def get_metadata(df, key, val):\n",
    "    #create a new column with index \n",
    "    df['index'] = df.index\n",
    "    if key == \"Username\":\n",
    "        return {str(row[key]): row[val] for _, row in df.iterrows()}\n",
    "    else:\n",
    "        return {row[key]: row[val] for _, row in df.iterrows()}\n",
    "\n",
    "# embd2idx is a mapping. type(embd2idx) = dictionary    \n",
    "emb2idxU = get_metadata(df, \"index\", \"Username\")\n",
    "\n",
    "# print(emb2idxU)\n",
    "len(emb2idxU)\n"
   ]
  },
  {
   "cell_type": "code",
   "execution_count": 6,
   "metadata": {},
   "outputs": [],
   "source": [
    "# DF User\n",
    "# Create DataFrame from 0...n\n",
    "d = dict()\n",
    "size = len(emb2idxU)\n",
    "for x in range(0,size):\n",
    "    d[x]=x\n",
    "# print(d)\n",
    "\n",
    "# Convert dict to DataFrame\n",
    "dfU = pd.DataFrame.from_dict(d,orient='index')\n",
    "# type(dfU)"
   ]
  },
  {
   "cell_type": "code",
   "execution_count": 7,
   "metadata": {},
   "outputs": [
    {
     "data": {
      "text/plain": [
       "980"
      ]
     },
     "execution_count": 7,
     "metadata": {},
     "output_type": "execute_result"
    }
   ],
   "source": [
    "# DF Repo\n",
    "def get_metadata(df, key, val):\n",
    "    #create a new column with index \n",
    "    df['index'] = df.index\n",
    "    if key == \"Repository Name\":\n",
    "        return {str(row[key]): row[val] for _, row in df.iterrows()}\n",
    "    else:\n",
    "        return {row[key]: row[val] for _, row in df.iterrows()}\n",
    "\n",
    "# embd2idx is a mapping. type(embd2idx) = dictionary    \n",
    "emb2idxR = get_metadata(df, \"index\", \"Repository Name\")\n",
    "\n",
    "# print(emb2idx)\n",
    "len(emb2idxR)"
   ]
  },
  {
   "cell_type": "code",
   "execution_count": 8,
   "metadata": {},
   "outputs": [
    {
     "data": {
      "text/plain": [
       "pandas.core.frame.DataFrame"
      ]
     },
     "execution_count": 8,
     "metadata": {},
     "output_type": "execute_result"
    }
   ],
   "source": [
    "# DF Repo\n",
    "# Create DataFrame from 0...n\n",
    "d = dict()\n",
    "size = len(emb2idxR)\n",
    "for x in range(0,size):\n",
    "    d[x]=x\n",
    "# print(d)\n",
    "\n",
    "# Convert dict to DataFrame\n",
    "dfR = pd.DataFrame.from_dict(d,orient='index')\n",
    "type(dfR)\n"
   ]
  },
  {
   "cell_type": "code",
   "execution_count": 9,
   "metadata": {},
   "outputs": [],
   "source": [
    "df1 = df['Repository Name'].map(lambda x: x) # pandas.core.series.Series\n",
    "df1 = df1.to_frame()                         # pandas.core.frame.DataFrame\n",
    "df2 = df['Number of Stars'].map(lambda x: x.rstrip('k'))\n",
    "df2 = df2.to_frame()"
   ]
  },
  {
   "cell_type": "code",
   "execution_count": 10,
   "metadata": {},
   "outputs": [
    {
     "data": {
      "text/plain": [
       "pandas.core.frame.DataFrame"
      ]
     },
     "execution_count": 10,
     "metadata": {},
     "output_type": "execute_result"
    }
   ],
   "source": [
    "# df1.set_index(['Repository Name'])\n",
    "df2.set_index(['Number of Stars'])\n",
    "type(df2)"
   ]
  },
  {
   "cell_type": "code",
   "execution_count": 11,
   "metadata": {},
   "outputs": [],
   "source": [
    "#Combine the three data frames\n",
    "# fdf = User, Repo, of stars\n",
    "fdf = pd.concat([dfU,dfR, df2], axis=1, ignore_index=False,sort = False) #Sort Warning\n",
    "\n",
    "#print(fdf)"
   ]
  },
  {
   "cell_type": "code",
   "execution_count": 12,
   "metadata": {},
   "outputs": [],
   "source": [
    "fdf.to_csv('Preprocessing.csv')"
   ]
  },
  {
   "cell_type": "code",
   "execution_count": 13,
   "metadata": {},
   "outputs": [],
   "source": [
    "# Remove top Row containing Coloumn names\n",
    "with open(\"Preprocessing.csv\",'r+') as f:\n",
    "    with open(\"Dataset.csv\",'w') as f1:\n",
    "        f.readline() # skip header line\n",
    "        for line in f:\n",
    "            f1.write(line)\n"
   ]
  },
  {
   "cell_type": "code",
   "execution_count": 14,
   "metadata": {},
   "outputs": [
    {
     "data": {
      "text/html": [
       "<div>\n",
       "<style scoped>\n",
       "    .dataframe tbody tr th:only-of-type {\n",
       "        vertical-align: middle;\n",
       "    }\n",
       "\n",
       "    .dataframe tbody tr th {\n",
       "        vertical-align: top;\n",
       "    }\n",
       "\n",
       "    .dataframe thead th {\n",
       "        text-align: right;\n",
       "    }\n",
       "</style>\n",
       "<table border=\"1\" class=\"dataframe\">\n",
       "  <thead>\n",
       "    <tr style=\"text-align: right;\">\n",
       "      <th></th>\n",
       "      <th>0</th>\n",
       "      <th>0.1</th>\n",
       "      <th>0.2</th>\n",
       "      <th>290</th>\n",
       "    </tr>\n",
       "  </thead>\n",
       "  <tbody>\n",
       "    <tr>\n",
       "      <th>0</th>\n",
       "      <td>1</td>\n",
       "      <td>1</td>\n",
       "      <td>1</td>\n",
       "      <td>112.0</td>\n",
       "    </tr>\n",
       "    <tr>\n",
       "      <th>1</th>\n",
       "      <td>2</td>\n",
       "      <td>2</td>\n",
       "      <td>2</td>\n",
       "      <td>87.8</td>\n",
       "    </tr>\n",
       "  </tbody>\n",
       "</table>\n",
       "</div>"
      ],
      "text/plain": [
       "   0  0.1  0.2    290\n",
       "0  1    1    1  112.0\n",
       "1  2    2    2   87.8"
      ]
     },
     "execution_count": 14,
     "metadata": {},
     "output_type": "execute_result"
    }
   ],
   "source": [
    "df = pd.read_csv(\"Dataset.csv\")\n",
    "\n",
    "df.head(2)"
   ]
  },
  {
   "cell_type": "code",
   "execution_count": 23,
   "metadata": {},
   "outputs": [
    {
     "name": "stdout",
     "output_type": "stream",
     "text": [
      "[Row(value='0,0,0,290'), Row(value='1,1,1,112')]\n"
     ]
    }
   ],
   "source": [
    "lines = spark.read.text(\"Dataset.csv\").rdd\n",
    "print(lines.take(2))"
   ]
  },
  {
   "cell_type": "code",
   "execution_count": 16,
   "metadata": {},
   "outputs": [
    {
     "name": "stdout",
     "output_type": "stream",
     "text": [
      "[['0', '0', '0', '290'], ['1', '1', '1', '112']]\n"
     ]
    },
    {
     "data": {
      "text/plain": [
       "pyspark.rdd.PipelinedRDD"
      ]
     },
     "execution_count": 16,
     "metadata": {},
     "output_type": "execute_result"
    }
   ],
   "source": [
    "# Need to convert p[1] from str to int\n",
    "parts = lines.map(lambda row: row.value.split(\",\"))\n",
    "print(parts.take(2))\n",
    "type(parts)"
   ]
  },
  {
   "cell_type": "code",
   "execution_count": 17,
   "metadata": {},
   "outputs": [
    {
     "data": {
      "text/plain": [
       "pyspark.sql.dataframe.DataFrame"
      ]
     },
     "execution_count": 17,
     "metadata": {},
     "output_type": "execute_result"
    }
   ],
   "source": [
    "# RDD mapped as int and float from Dataset\n",
    "\n",
    "ratingsRDD = parts.map(lambda p: Row(userId=int(p[1]),\n",
    "                                     repoId=int(p[2]),\n",
    "                                     repoCount=float(p[3])))\n",
    "ratings = spark.createDataFrame(ratingsRDD)\n",
    "type(ratings) #pyspark.sql.dataframe.DataFrame\n",
    "# print(ratings.head(10))"
   ]
  },
  {
   "cell_type": "code",
   "execution_count": 18,
   "metadata": {},
   "outputs": [
    {
     "ename": "TypeError",
     "evalue": "stop() missing 1 required positional argument: 'self'",
     "output_type": "error",
     "traceback": [
      "\u001b[0;31m---------------------------------------------------------------------------\u001b[0m",
      "\u001b[0;31mTypeError\u001b[0m                                 Traceback (most recent call last)",
      "\u001b[0;32m<ipython-input-18-f8cf67779509>\u001b[0m in \u001b[0;36m<module>\u001b[0;34m()\u001b[0m\n\u001b[1;32m      2\u001b[0m     \u001b[0mx\u001b[0m\u001b[0;34m,\u001b[0m \u001b[0my\u001b[0m\u001b[0;34m,\u001b[0m \u001b[0mz\u001b[0m  \u001b[0;34m=\u001b[0m \u001b[0ms\u001b[0m\u001b[0;34m.\u001b[0m\u001b[0msplit\u001b[0m\u001b[0;34m(\u001b[0m\u001b[0;34m\",\"\u001b[0m\u001b[0;34m)\u001b[0m\u001b[0;34m\u001b[0m\u001b[0m\n\u001b[1;32m      3\u001b[0m     \u001b[0;32mreturn\u001b[0m \u001b[0mRating\u001b[0m\u001b[0;34m(\u001b[0m\u001b[0mint\u001b[0m\u001b[0;34m(\u001b[0m\u001b[0mx\u001b[0m\u001b[0;34m)\u001b[0m\u001b[0;34m,\u001b[0m \u001b[0mint\u001b[0m\u001b[0;34m(\u001b[0m\u001b[0my\u001b[0m\u001b[0;34m)\u001b[0m\u001b[0;34m,\u001b[0m \u001b[0mfloat\u001b[0m\u001b[0;34m(\u001b[0m\u001b[0mz\u001b[0m\u001b[0;34m)\u001b[0m\u001b[0;34m)\u001b[0m\u001b[0;34m\u001b[0m\u001b[0m\n\u001b[0;32m----> 4\u001b[0;31m \u001b[0mSparkContext\u001b[0m\u001b[0;34m.\u001b[0m\u001b[0mstop\u001b[0m\u001b[0;34m(\u001b[0m\u001b[0;34m)\u001b[0m\u001b[0;34m\u001b[0m\u001b[0m\n\u001b[0m\u001b[1;32m      5\u001b[0m \u001b[0msc\u001b[0m \u001b[0;34m=\u001b[0m \u001b[0mSparkContext\u001b[0m\u001b[0;34m(\u001b[0m\u001b[0;34m)\u001b[0m\u001b[0;34m\u001b[0m\u001b[0m\n\u001b[1;32m      6\u001b[0m ratings = (sc.textFile(\"Dataset.csv\")\n",
      "\u001b[0;31mTypeError\u001b[0m: stop() missing 1 required positional argument: 'self'"
     ]
    }
   ],
   "source": [
    "def parse(s):\n",
    "    x, y, z  = s.split(\",\")\n",
    "    return Rating(int(x), int(y), float(z))\n",
    "SparkContext.stop()\n",
    "sc = SparkContext()\n",
    "ratings = (sc.textFile(\"Dataset.csv\")\n",
    "  .map(parse)\n",
    "  .union(sc.parallelize([Rating(1, 5, 4.0)])))\n",
    "\n",
    "model = ALS.train(ratings, 10, 10)\n"
   ]
  },
  {
   "cell_type": "code",
   "execution_count": 19,
   "metadata": {},
   "outputs": [],
   "source": [
    "(training, test) = ratings.randomSplit([0.8, 0.2])"
   ]
  },
  {
   "cell_type": "code",
   "execution_count": 20,
   "metadata": {},
   "outputs": [],
   "source": [
    "# Build the recommendation model using ALS on the training data\n",
    "# Cold start strategy is set to '\"drop\" to make sure there is \n",
    "# no NaN evaluation metrics which would result in error.\n",
    "als = ALS(maxIter=5, regParam=0.01, userCol=\"userId\", \n",
    "                                    itemCol=\"repoId\", \n",
    "                                    ratingCol=\"repoCount\"\n",
    "        ,coldStartStrategy=\"drop\") #Cold-start is set to DROP\n",
    "model = als.fit(training)\n",
    "\n",
    "#model.show(2)\n",
    "\n",
    "#type(als)\n",
    "#type(model)\n"
   ]
  },
  {
   "cell_type": "code",
   "execution_count": 21,
   "metadata": {},
   "outputs": [
    {
     "name": "stdout",
     "output_type": "stream",
     "text": [
      "+---------+------+------+----------+\n",
      "|repoCount|repoId|userId|prediction|\n",
      "+---------+------+------+----------+\n",
      "+---------+------+------+----------+\n",
      "\n"
     ]
    }
   ],
   "source": [
    "# Evaluate the model by computing the RMSE on the test data\n",
    "predictions = model.transform(test)\n",
    "\n",
    "\n",
    "predictions.show(3)"
   ]
  },
  {
   "cell_type": "code",
   "execution_count": null,
   "metadata": {},
   "outputs": [],
   "source": [
    "evaluator = RegressionEvaluator(metricName=\"rmse\", \n",
    "                                labelCol=\"repoCount\", \n",
    "                                predictionCol=\"prediction\")\n",
    "rmse = evaluator.evaluate(predictions)\n",
    "print(\"Root-mean-square error = \" + str(rmse))"
   ]
  }
 ],
 "metadata": {
  "kernelspec": {
   "display_name": "Python 3",
   "language": "python",
   "name": "python3"
  },
  "language_info": {
   "codemirror_mode": {
    "name": "ipython",
    "version": 3
   },
   "file_extension": ".py",
   "mimetype": "text/x-python",
   "name": "python",
   "nbconvert_exporter": "python",
   "pygments_lexer": "ipython3",
   "version": "3.6.5"
  }
 },
 "nbformat": 4,
 "nbformat_minor": 2
}
