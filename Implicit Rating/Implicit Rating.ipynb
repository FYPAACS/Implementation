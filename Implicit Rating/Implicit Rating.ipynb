{
 "cells": [
  {
   "cell_type": "markdown",
   "metadata": {},
   "source": [
    "# [Link](http://spark.apache.org/docs/2.2.0/api/python/pyspark.ml.html#module-pyspark.ml.recommendation)"
   ]
  },
  {
   "cell_type": "code",
   "execution_count": 18,
   "metadata": {},
   "outputs": [],
   "source": [
    "# Import dependencies\n",
    "from __future__ import print_function\n",
    "\n",
    "import sys\n",
    "if sys.version >= '3':\n",
    "    long = int\n",
    "    \n",
    "import pandas as pd\n",
    "from pyspark.sql import SparkSession\n",
    "\n",
    "# PySpark ML Imports\n",
    "from pyspark.ml.evaluation import RegressionEvaluator\n",
    "from pyspark.ml.recommendation import ALS\n",
    "from pyspark.sql import Row\n",
    "\n",
    "# SparkContext\n",
    "from pyspark import SparkContext\n",
    "\n",
    "# PySpark ML Imports\n",
    "\n",
    "from pprint import pprint"
   ]
  },
  {
   "cell_type": "code",
   "execution_count": 19,
   "metadata": {},
   "outputs": [],
   "source": [
    "if __name__ == \"__main__\":\n",
    "    spark = SparkSession\\\n",
    "        .builder\\\n",
    "        .appName(\"ALSExample\")\\\n",
    "        .getOrCreate()\n",
    "  \n"
   ]
  },
  {
   "cell_type": "code",
   "execution_count": 20,
   "metadata": {},
   "outputs": [],
   "source": [
    "# Load data\n",
    "df = pd.DataFrame()\n",
    "df = pd.read_csv('TopStaredRepositories.csv')"
   ]
  },
  {
   "cell_type": "code",
   "execution_count": 21,
   "metadata": {},
   "outputs": [
    {
     "name": "stdout",
     "output_type": "stream",
     "text": [
      "       Username Repository Name Number of Stars\n",
      "0  freeCodeCamp    freeCodeCamp            290k\n",
      "1          twbs       bootstrap            112k\n"
     ]
    }
   ],
   "source": [
    "# Remove columns not needed\n",
    "#df.set_index(['Repository Name'])\n",
    "COLUMNS_TO_REMOVE_LIST = ['Description',\n",
    "                          'Last Update Date', 'Language', \n",
    "                          'Tags', 'Url','Gravatar' ,'Unnamed: 0']\n",
    "\n",
    "\n",
    "\n",
    "for column in COLUMNS_TO_REMOVE_LIST :\n",
    "    try:\n",
    "        del df[column]\n",
    "    except Exception:\n",
    "        pass\n",
    "print(df.head(2))"
   ]
  },
  {
   "cell_type": "code",
   "execution_count": 22,
   "metadata": {},
   "outputs": [
    {
     "data": {
      "text/plain": [
       "pandas.core.frame.DataFrame"
      ]
     },
     "execution_count": 22,
     "metadata": {},
     "output_type": "execute_result"
    }
   ],
   "source": [
    "# DF User\n",
    "def get_metadata(df, key, val):\n",
    "    #create a new column with index \n",
    "    df['index'] = df.index\n",
    "    if key == \"Username\":\n",
    "        return {str(row[key]): row[val] for _, row in df.iterrows()}\n",
    "    else:\n",
    "        return {row[key]: row[val] for _, row in df.iterrows()}\n",
    "\n",
    "# embd2idx is a mapping. type(embd2idx) = dictionary    \n",
    "emb2idxU = get_metadata(df, \"index\", \"Username\")\n",
    "\n",
    "# print(emb2idxU)\n",
    "len(emb2idxU)\n",
    "\n",
    "# DF User\n",
    "# Create DataFrame from 0...n\n",
    "d = dict()\n",
    "size = len(emb2idxU)\n",
    "for x in range(0,size):\n",
    "    d[x]=x\n",
    "# print(d)\n",
    "\n",
    "# Convert dict to DataFrame\n",
    "dfU = pd.DataFrame.from_dict(d,orient='index')\n",
    "# type(dfU)\n",
    "\n",
    "# DF Repo\n",
    "def get_metadata(df, key, val):\n",
    "    #create a new column with index \n",
    "    df['index'] = df.index\n",
    "    if key == \"Repository Name\":\n",
    "        return {str(row[key]): row[val] for _, row in df.iterrows()}\n",
    "    else:\n",
    "        return {row[key]: row[val] for _, row in df.iterrows()}\n",
    "\n",
    "# embd2idx is a mapping. type(embd2idx) = dictionary    \n",
    "emb2idxR = get_metadata(df, \"index\", \"Repository Name\")\n",
    "\n",
    "# print(emb2idx)\n",
    "len(emb2idxR)\n",
    "\n",
    "# DF Repo\n",
    "# Create DataFrame from 0...n\n",
    "d = dict()\n",
    "size = len(emb2idxR)\n",
    "for x in range(0,size):\n",
    "    d[x]=x\n",
    "# print(d)\n",
    "\n",
    "# Convert dict to DataFrame\n",
    "dfR = pd.DataFrame.from_dict(d,orient='index')\n",
    "type(dfR)"
   ]
  },
  {
   "cell_type": "code",
   "execution_count": null,
   "metadata": {},
   "outputs": [],
   "source": [
    "# type(emb2idxU) dict\n",
    "# type(dfU) pandas.core.frame.DataFrame"
   ]
  },
  {
   "cell_type": "code",
   "execution_count": 23,
   "metadata": {},
   "outputs": [],
   "source": [
    "df1 = df['Repository Name'].map(lambda x: x) # pandas.core.series.Series\n",
    "df1 = df1.to_frame()                         # pandas.core.frame.DataFrame\n",
    "df2 = df['Number of Stars'].map(lambda x: x.rstrip('k'))\n",
    "df2 = df2.to_frame()"
   ]
  },
  {
   "cell_type": "code",
   "execution_count": 24,
   "metadata": {},
   "outputs": [
    {
     "data": {
      "text/plain": [
       "pandas.core.frame.DataFrame"
      ]
     },
     "execution_count": 24,
     "metadata": {},
     "output_type": "execute_result"
    }
   ],
   "source": [
    "# df1.set_index(['Repository Name'])\n",
    "df2.set_index(['Number of Stars'])\n",
    "type(df2)"
   ]
  },
  {
   "cell_type": "code",
   "execution_count": 25,
   "metadata": {},
   "outputs": [],
   "source": [
    "#Combine the three data frames\n",
    "# fdf = User, Repo, of stars\n",
    "fdf = pd.concat([dfU,dfR, df2], axis=1, ignore_index=False,sort = False) #Sort Warning\n",
    "\n",
    "#print(fdf)"
   ]
  },
  {
   "cell_type": "code",
   "execution_count": 26,
   "metadata": {},
   "outputs": [],
   "source": [
    "fdf.to_csv('Preprocessing.csv')"
   ]
  },
  {
   "cell_type": "code",
   "execution_count": 27,
   "metadata": {},
   "outputs": [],
   "source": [
    "# Remove top Row containing Coloumn names\n",
    "with open(\"Preprocessing.csv\",'r+') as f:\n",
    "    with open(\"Dataset.csv\",'w') as f1:\n",
    "        f.readline() # skip header line\n",
    "        for line in f:\n",
    "            f1.write(line)"
   ]
  },
  {
   "cell_type": "markdown",
   "metadata": {},
   "source": [
    "# Datasetcsv"
   ]
  },
  {
   "cell_type": "code",
   "execution_count": 28,
   "metadata": {},
   "outputs": [
    {
     "data": {
      "text/html": [
       "<div>\n",
       "<style scoped>\n",
       "    .dataframe tbody tr th:only-of-type {\n",
       "        vertical-align: middle;\n",
       "    }\n",
       "\n",
       "    .dataframe tbody tr th {\n",
       "        vertical-align: top;\n",
       "    }\n",
       "\n",
       "    .dataframe thead th {\n",
       "        text-align: right;\n",
       "    }\n",
       "</style>\n",
       "<table border=\"1\" class=\"dataframe\">\n",
       "  <thead>\n",
       "    <tr style=\"text-align: right;\">\n",
       "      <th></th>\n",
       "      <th>0</th>\n",
       "      <th>0.1</th>\n",
       "      <th>0.2</th>\n",
       "      <th>290</th>\n",
       "    </tr>\n",
       "  </thead>\n",
       "  <tbody>\n",
       "    <tr>\n",
       "      <th>0</th>\n",
       "      <td>1</td>\n",
       "      <td>1</td>\n",
       "      <td>1</td>\n",
       "      <td>112.0</td>\n",
       "    </tr>\n",
       "    <tr>\n",
       "      <th>1</th>\n",
       "      <td>2</td>\n",
       "      <td>2</td>\n",
       "      <td>2</td>\n",
       "      <td>87.8</td>\n",
       "    </tr>\n",
       "  </tbody>\n",
       "</table>\n",
       "</div>"
      ],
      "text/plain": [
       "   0  0.1  0.2    290\n",
       "0  1    1    1  112.0\n",
       "1  2    2    2   87.8"
      ]
     },
     "execution_count": 28,
     "metadata": {},
     "output_type": "execute_result"
    }
   ],
   "source": [
    "df = pd.read_csv(\"Dataset.csv\")\n",
    "df.head(2)\n"
   ]
  },
  {
   "cell_type": "code",
   "execution_count": 29,
   "metadata": {},
   "outputs": [
    {
     "name": "stdout",
     "output_type": "stream",
     "text": [
      "[Row(value='0,0,0,290'), Row(value='1,1,1,112'), Row(value='2,2,2,87.8')]\n"
     ]
    }
   ],
   "source": [
    "lines = spark.read.text(\"Dataset.csv\").rdd\n",
    "print(lines.take(3))\n"
   ]
  },
  {
   "cell_type": "code",
   "execution_count": 30,
   "metadata": {},
   "outputs": [
    {
     "name": "stdout",
     "output_type": "stream",
     "text": [
      "[['0', '0', '0', '290'], ['1', '1', '1', '112']]\n"
     ]
    },
    {
     "data": {
      "text/plain": [
       "pyspark.rdd.PipelinedRDD"
      ]
     },
     "execution_count": 30,
     "metadata": {},
     "output_type": "execute_result"
    }
   ],
   "source": [
    "# Need to convert p[1] from str to int\n",
    "parts = lines.map(lambda row: row.value.split(\",\"))\n",
    "print(parts.take(2))\n",
    "type(parts)\n",
    "# RDD mapped as int and float from Dataset"
   ]
  },
  {
   "cell_type": "code",
   "execution_count": 31,
   "metadata": {},
   "outputs": [
    {
     "data": {
      "text/plain": [
       "pyspark.sql.dataframe.DataFrame"
      ]
     },
     "execution_count": 31,
     "metadata": {},
     "output_type": "execute_result"
    }
   ],
   "source": [
    "ratingsRDD = parts.map(lambda p: Row(userId=int(p[1]),\n",
    "                                     repoId=int(p[2]),\n",
    "                                     repoCount=float(p[3])))\n",
    "ratings = spark.createDataFrame(ratingsRDD)\n",
    "type(ratings) #pyspark.sql.dataframe.DataFrame\n",
    "# print(ratings.head(10))"
   ]
  },
  {
   "cell_type": "code",
   "execution_count": 32,
   "metadata": {},
   "outputs": [],
   "source": [
    "# Implicit Rating\n",
    "\n",
    "ratingsRDD = parts.map(lambda p: Row(user=int(p[1]),\n",
    "                                     item=int(p[2]),\n",
    "                                     rating=float(p[3])))\n",
    "ratings = spark.createDataFrame(ratingsRDD)\n",
    "(training, test) = ratings.randomSplit([0.8, 0.2])\n",
    "als = ALS(rank=5, maxIter=5, alpha = 1.0, \n",
    "          implicitPrefs=True, seed=0)\n",
    "model = als.fit(ratings)"
   ]
  },
  {
   "cell_type": "code",
   "execution_count": 33,
   "metadata": {},
   "outputs": [],
   "source": [
    "# model.userFactors.orderBy(\"id\").collect()"
   ]
  },
  {
   "cell_type": "code",
   "execution_count": 34,
   "metadata": {},
   "outputs": [],
   "source": [
    "test = test.drop(\"rating\")"
   ]
  },
  {
   "cell_type": "code",
   "execution_count": 35,
   "metadata": {},
   "outputs": [],
   "source": [
    "predictions = sorted(model.transform(test).collect(), \n",
    "                     key=lambda r: r[0])\n",
    "\n",
    "user_recs = model.recommendForAllUsers(3)\n",
    "item_recs = model.recommendForAllItems(3)\n",
    "# user_recs of type pyspark.sql.dataframe.DataFrame\n",
    "\n"
   ]
  },
  {
   "cell_type": "code",
   "execution_count": 123,
   "metadata": {},
   "outputs": [
    {
     "data": {
      "text/plain": [
       "DataFrame[user: int, recommendations: array<struct<item:int,rating:float>>]"
      ]
     },
     "execution_count": 123,
     "metadata": {},
     "output_type": "execute_result"
    }
   ],
   "source": [
    "user_recs"
   ]
  },
  {
   "cell_type": "code",
   "execution_count": 36,
   "metadata": {},
   "outputs": [
    {
     "data": {
      "text/plain": [
       "[Row(item=[6, 44, 42], rating=[0.16403163969516754, 0.14122384786605835, 0.11740853637456894])]"
      ]
     },
     "execution_count": 36,
     "metadata": {},
     "output_type": "execute_result"
    }
   ],
   "source": [
    "user_recs.where(user_recs.user == 222) \\\n",
    "         .select(\"recommendations.item\", \"recommendations.rating\") \\\n",
    "         .collect()\n"
   ]
  },
  {
   "cell_type": "code",
   "execution_count": 49,
   "metadata": {},
   "outputs": [
    {
     "data": {
      "text/plain": [
       "[Row(user=[2, 26, 13], rating=[0.8256587982177734, 0.5344247817993164, 0.5243312120437622])]"
      ]
     },
     "execution_count": 49,
     "metadata": {},
     "output_type": "execute_result"
    }
   ],
   "source": [
    "item_recs.where(item_recs.item == 2)       \\\n",
    "         .select(\"recommendations.user\",   \\\n",
    "                 \"recommendations.rating\") \\\n",
    "          .collect()\n"
   ]
  },
  {
   "cell_type": "markdown",
   "metadata": {},
   "source": [
    "# Mapping back (In progress)"
   ]
  },
  {
   "cell_type": "code",
   "execution_count": 179,
   "metadata": {},
   "outputs": [],
   "source": [
    "row_number = 4"
   ]
  },
  {
   "cell_type": "code",
   "execution_count": 180,
   "metadata": {},
   "outputs": [
    {
     "data": {
      "text/html": [
       "<div>\n",
       "<style scoped>\n",
       "    .dataframe tbody tr th:only-of-type {\n",
       "        vertical-align: middle;\n",
       "    }\n",
       "\n",
       "    .dataframe tbody tr th {\n",
       "        vertical-align: top;\n",
       "    }\n",
       "\n",
       "    .dataframe thead th {\n",
       "        text-align: right;\n",
       "    }\n",
       "</style>\n",
       "<table border=\"1\" class=\"dataframe\">\n",
       "  <thead>\n",
       "    <tr style=\"text-align: right;\">\n",
       "      <th></th>\n",
       "      <th>user</th>\n",
       "      <th>recommendations</th>\n",
       "    </tr>\n",
       "  </thead>\n",
       "  <tbody>\n",
       "    <tr>\n",
       "      <th>0</th>\n",
       "      <td>471</td>\n",
       "      <td>[(0, 0.005226806737482548), (23, 0.00444022519...</td>\n",
       "    </tr>\n",
       "    <tr>\n",
       "      <th>1</th>\n",
       "      <td>463</td>\n",
       "      <td>[(59, 0.004731948487460613), (14, 0.0043658032...</td>\n",
       "    </tr>\n",
       "    <tr>\n",
       "      <th>2</th>\n",
       "      <td>833</td>\n",
       "      <td>[(0, 0.0003944472991861403), (22, 0.0002864262...</td>\n",
       "    </tr>\n",
       "    <tr>\n",
       "      <th>3</th>\n",
       "      <td>496</td>\n",
       "      <td>[(3, 0.004276900552213192), (7, 0.004190643783...</td>\n",
       "    </tr>\n",
       "    <tr>\n",
       "      <th>4</th>\n",
       "      <td>148</td>\n",
       "      <td>[(9, 0.2732253968715668), (21, 0.2586356997489...</td>\n",
       "    </tr>\n",
       "    <tr>\n",
       "      <th>5</th>\n",
       "      <td>540</td>\n",
       "      <td>[(13, 0.0027574943378567696), (2, 0.0025258106...</td>\n",
       "    </tr>\n",
       "    <tr>\n",
       "      <th>6</th>\n",
       "      <td>392</td>\n",
       "      <td>[(16, 0.009262772276997566), (65, 0.0079017588...</td>\n",
       "    </tr>\n",
       "    <tr>\n",
       "      <th>7</th>\n",
       "      <td>243</td>\n",
       "      <td>[(9, 0.12746505439281464), (21, 0.097083449363...</td>\n",
       "    </tr>\n",
       "    <tr>\n",
       "      <th>8</th>\n",
       "      <td>623</td>\n",
       "      <td>[(14, 0.001248658518306911), (62, 0.0012246754...</td>\n",
       "    </tr>\n",
       "    <tr>\n",
       "      <th>9</th>\n",
       "      <td>737</td>\n",
       "      <td>[(6, 0.0007072219159454107), (44, 0.0005289434...</td>\n",
       "    </tr>\n",
       "    <tr>\n",
       "      <th>10</th>\n",
       "      <td>897</td>\n",
       "      <td>[(15, 0.00017934618517756462), (48, 0.00017802...</td>\n",
       "    </tr>\n",
       "    <tr>\n",
       "      <th>11</th>\n",
       "      <td>858</td>\n",
       "      <td>[(7, 0.0003449564101174474), (21, 0.0002691239...</td>\n",
       "    </tr>\n",
       "    <tr>\n",
       "      <th>12</th>\n",
       "      <td>31</td>\n",
       "      <td>[(31, 0.5629392862319946), (62, 0.437671720981...</td>\n",
       "    </tr>\n",
       "    <tr>\n",
       "      <th>13</th>\n",
       "      <td>516</td>\n",
       "      <td>[(48, 0.0032058521173894405), (8, 0.0028122712...</td>\n",
       "    </tr>\n",
       "    <tr>\n",
       "      <th>14</th>\n",
       "      <td>580</td>\n",
       "      <td>[(0, 0.002336912089958787), (55, 0.00156051572...</td>\n",
       "    </tr>\n",
       "    <tr>\n",
       "      <th>15</th>\n",
       "      <td>251</td>\n",
       "      <td>[(14, 0.10991431772708893), (1, 0.101471729576...</td>\n",
       "    </tr>\n",
       "    <tr>\n",
       "      <th>16</th>\n",
       "      <td>451</td>\n",
       "      <td>[(28, 0.0052391234785318375), (0, 0.0051727779...</td>\n",
       "    </tr>\n",
       "    <tr>\n",
       "      <th>17</th>\n",
       "      <td>85</td>\n",
       "      <td>[(0, 0.5384823083877563), (4, 0.41155058145523...</td>\n",
       "    </tr>\n",
       "    <tr>\n",
       "      <th>18</th>\n",
       "      <td>137</td>\n",
       "      <td>[(30, 0.30927085876464844), (39, 0.30046430230...</td>\n",
       "    </tr>\n",
       "    <tr>\n",
       "      <th>19</th>\n",
       "      <td>808</td>\n",
       "      <td>[(57, 0.0003191647119820118), (13, 0.000316170...</td>\n",
       "    </tr>\n",
       "    <tr>\n",
       "      <th>20</th>\n",
       "      <td>883</td>\n",
       "      <td>[(0, 0.0001898585178423673), (22, 0.0001745755...</td>\n",
       "    </tr>\n",
       "    <tr>\n",
       "      <th>21</th>\n",
       "      <td>65</td>\n",
       "      <td>[(65, 0.4467225670814514), (16, 0.409026324748...</td>\n",
       "    </tr>\n",
       "    <tr>\n",
       "      <th>22</th>\n",
       "      <td>458</td>\n",
       "      <td>[(41, 0.004380054771900177), (3, 0.00425368826...</td>\n",
       "    </tr>\n",
       "    <tr>\n",
       "      <th>23</th>\n",
       "      <td>879</td>\n",
       "      <td>[(57, 0.0002193025720771402), (2, 0.0002119209...</td>\n",
       "    </tr>\n",
       "    <tr>\n",
       "      <th>24</th>\n",
       "      <td>970</td>\n",
       "      <td>[(57, 0.00010659692634362727), (40, 0.00010113...</td>\n",
       "    </tr>\n",
       "    <tr>\n",
       "      <th>25</th>\n",
       "      <td>481</td>\n",
       "      <td>[(10, 0.004299115389585495), (5, 0.00409769453...</td>\n",
       "    </tr>\n",
       "    <tr>\n",
       "      <th>26</th>\n",
       "      <td>53</td>\n",
       "      <td>[(11, 0.5197670459747314), (53, 0.481139510869...</td>\n",
       "    </tr>\n",
       "    <tr>\n",
       "      <th>27</th>\n",
       "      <td>804</td>\n",
       "      <td>[(25, 0.0003984914510510862), (15, 0.000313211...</td>\n",
       "    </tr>\n",
       "    <tr>\n",
       "      <th>28</th>\n",
       "      <td>255</td>\n",
       "      <td>[(3, 0.11176170408725739), (24, 0.088913664221...</td>\n",
       "    </tr>\n",
       "    <tr>\n",
       "      <th>29</th>\n",
       "      <td>588</td>\n",
       "      <td>[(4, 0.0017916560173034668), (28, 0.0015332698...</td>\n",
       "    </tr>\n",
       "    <tr>\n",
       "      <th>...</th>\n",
       "      <td>...</td>\n",
       "      <td>...</td>\n",
       "    </tr>\n",
       "    <tr>\n",
       "      <th>950</th>\n",
       "      <td>755</td>\n",
       "      <td>[(6, 0.0005625911289826035), (44, 0.0005144968...</td>\n",
       "    </tr>\n",
       "    <tr>\n",
       "      <th>951</th>\n",
       "      <td>138</td>\n",
       "      <td>[(6, 0.3294931650161743), (44, 0.3283476829528...</td>\n",
       "    </tr>\n",
       "    <tr>\n",
       "      <th>952</th>\n",
       "      <td>180</td>\n",
       "      <td>[(3, 0.20618794858455658), (17, 0.202116787433...</td>\n",
       "    </tr>\n",
       "    <tr>\n",
       "      <th>953</th>\n",
       "      <td>932</td>\n",
       "      <td>[(28, 0.0001690514327492565), (0, 0.0001511459...</td>\n",
       "    </tr>\n",
       "    <tr>\n",
       "      <th>954</th>\n",
       "      <td>483</td>\n",
       "      <td>[(19, 0.0032005629036575556), (40, 0.003130237...</td>\n",
       "    </tr>\n",
       "    <tr>\n",
       "      <th>955</th>\n",
       "      <td>643</td>\n",
       "      <td>[(21, 0.00112468795850873), (31, 0.00110047985...</td>\n",
       "    </tr>\n",
       "    <tr>\n",
       "      <th>956</th>\n",
       "      <td>104</td>\n",
       "      <td>[(13, 0.3542293906211853), (46, 0.324363887310...</td>\n",
       "    </tr>\n",
       "    <tr>\n",
       "      <th>957</th>\n",
       "      <td>656</td>\n",
       "      <td>[(28, 0.0009215690079145133), (0, 0.0008982468...</td>\n",
       "    </tr>\n",
       "    <tr>\n",
       "      <th>958</th>\n",
       "      <td>917</td>\n",
       "      <td>[(31, 0.0001822017802624032), (30, 0.000159032...</td>\n",
       "    </tr>\n",
       "    <tr>\n",
       "      <th>959</th>\n",
       "      <td>468</td>\n",
       "      <td>[(13, 0.0049683284014463425), (27, 0.004201313...</td>\n",
       "    </tr>\n",
       "    <tr>\n",
       "      <th>960</th>\n",
       "      <td>841</td>\n",
       "      <td>[(17, 0.00026970988255925477), (59, 0.00022414...</td>\n",
       "    </tr>\n",
       "    <tr>\n",
       "      <th>961</th>\n",
       "      <td>134</td>\n",
       "      <td>[(0, 0.3917815387248993), (28, 0.2806417047977...</td>\n",
       "    </tr>\n",
       "    <tr>\n",
       "      <th>962</th>\n",
       "      <td>584</td>\n",
       "      <td>[(2, 0.0018932725070044398), (57, 0.0016799016...</td>\n",
       "    </tr>\n",
       "    <tr>\n",
       "      <th>963</th>\n",
       "      <td>878</td>\n",
       "      <td>[(1, 0.00022470857948064804), (25, 0.000221676...</td>\n",
       "    </tr>\n",
       "    <tr>\n",
       "      <th>964</th>\n",
       "      <td>521</td>\n",
       "      <td>[(20, 0.0030512746889144182), (0, 0.0025995911...</td>\n",
       "    </tr>\n",
       "    <tr>\n",
       "      <th>965</th>\n",
       "      <td>407</td>\n",
       "      <td>[(44, 0.009981812909245491), (6, 0.00912416446...</td>\n",
       "    </tr>\n",
       "    <tr>\n",
       "      <th>966</th>\n",
       "      <td>788</td>\n",
       "      <td>[(6, 0.00046270026359707117), (44, 0.000407260...</td>\n",
       "    </tr>\n",
       "    <tr>\n",
       "      <th>967</th>\n",
       "      <td>701</td>\n",
       "      <td>[(0, 0.0008113321382552385), (38, 0.0007702399...</td>\n",
       "    </tr>\n",
       "    <tr>\n",
       "      <th>968</th>\n",
       "      <td>963</td>\n",
       "      <td>[(14, 0.00013393588596954942), (53, 0.00011596...</td>\n",
       "    </tr>\n",
       "    <tr>\n",
       "      <th>969</th>\n",
       "      <td>617</td>\n",
       "      <td>[(25, 0.0010118563659489155), (2, 0.0009992998...</td>\n",
       "    </tr>\n",
       "    <tr>\n",
       "      <th>970</th>\n",
       "      <td>393</td>\n",
       "      <td>[(0, 0.012693253345787525), (20, 0.00856569968...</td>\n",
       "    </tr>\n",
       "    <tr>\n",
       "      <th>971</th>\n",
       "      <td>954</td>\n",
       "      <td>[(28, 0.00014698063023388386), (0, 0.000145576...</td>\n",
       "    </tr>\n",
       "    <tr>\n",
       "      <th>972</th>\n",
       "      <td>315</td>\n",
       "      <td>[(30, 0.038456663489341736), (7, 0.03545763343...</td>\n",
       "    </tr>\n",
       "    <tr>\n",
       "      <th>973</th>\n",
       "      <td>36</td>\n",
       "      <td>[(36, 0.538703441619873), (37, 0.4920608699321...</td>\n",
       "    </tr>\n",
       "    <tr>\n",
       "      <th>974</th>\n",
       "      <td>187</td>\n",
       "      <td>[(0, 0.2343452274799347), (4, 0.23066088557243...</td>\n",
       "    </tr>\n",
       "    <tr>\n",
       "      <th>975</th>\n",
       "      <td>208</td>\n",
       "      <td>[(21, 0.16726899147033691), (9, 0.154283016920...</td>\n",
       "    </tr>\n",
       "    <tr>\n",
       "      <th>976</th>\n",
       "      <td>401</td>\n",
       "      <td>[(0, 0.00930134579539299), (76, 0.009014556184...</td>\n",
       "    </tr>\n",
       "    <tr>\n",
       "      <th>977</th>\n",
       "      <td>422</td>\n",
       "      <td>[(53, 0.004998561926186085), (14, 0.0047313533...</td>\n",
       "    </tr>\n",
       "    <tr>\n",
       "      <th>978</th>\n",
       "      <td>517</td>\n",
       "      <td>[(23, 0.0032061829697340727), (33, 0.002594627...</td>\n",
       "    </tr>\n",
       "    <tr>\n",
       "      <th>979</th>\n",
       "      <td>89</td>\n",
       "      <td>[(7, 0.40959054231643677), (36, 0.366340279579...</td>\n",
       "    </tr>\n",
       "  </tbody>\n",
       "</table>\n",
       "<p>980 rows × 2 columns</p>\n",
       "</div>"
      ],
      "text/plain": [
       "     user                                    recommendations\n",
       "0     471  [(0, 0.005226806737482548), (23, 0.00444022519...\n",
       "1     463  [(59, 0.004731948487460613), (14, 0.0043658032...\n",
       "2     833  [(0, 0.0003944472991861403), (22, 0.0002864262...\n",
       "3     496  [(3, 0.004276900552213192), (7, 0.004190643783...\n",
       "4     148  [(9, 0.2732253968715668), (21, 0.2586356997489...\n",
       "5     540  [(13, 0.0027574943378567696), (2, 0.0025258106...\n",
       "6     392  [(16, 0.009262772276997566), (65, 0.0079017588...\n",
       "7     243  [(9, 0.12746505439281464), (21, 0.097083449363...\n",
       "8     623  [(14, 0.001248658518306911), (62, 0.0012246754...\n",
       "9     737  [(6, 0.0007072219159454107), (44, 0.0005289434...\n",
       "10    897  [(15, 0.00017934618517756462), (48, 0.00017802...\n",
       "11    858  [(7, 0.0003449564101174474), (21, 0.0002691239...\n",
       "12     31  [(31, 0.5629392862319946), (62, 0.437671720981...\n",
       "13    516  [(48, 0.0032058521173894405), (8, 0.0028122712...\n",
       "14    580  [(0, 0.002336912089958787), (55, 0.00156051572...\n",
       "15    251  [(14, 0.10991431772708893), (1, 0.101471729576...\n",
       "16    451  [(28, 0.0052391234785318375), (0, 0.0051727779...\n",
       "17     85  [(0, 0.5384823083877563), (4, 0.41155058145523...\n",
       "18    137  [(30, 0.30927085876464844), (39, 0.30046430230...\n",
       "19    808  [(57, 0.0003191647119820118), (13, 0.000316170...\n",
       "20    883  [(0, 0.0001898585178423673), (22, 0.0001745755...\n",
       "21     65  [(65, 0.4467225670814514), (16, 0.409026324748...\n",
       "22    458  [(41, 0.004380054771900177), (3, 0.00425368826...\n",
       "23    879  [(57, 0.0002193025720771402), (2, 0.0002119209...\n",
       "24    970  [(57, 0.00010659692634362727), (40, 0.00010113...\n",
       "25    481  [(10, 0.004299115389585495), (5, 0.00409769453...\n",
       "26     53  [(11, 0.5197670459747314), (53, 0.481139510869...\n",
       "27    804  [(25, 0.0003984914510510862), (15, 0.000313211...\n",
       "28    255  [(3, 0.11176170408725739), (24, 0.088913664221...\n",
       "29    588  [(4, 0.0017916560173034668), (28, 0.0015332698...\n",
       "..    ...                                                ...\n",
       "950   755  [(6, 0.0005625911289826035), (44, 0.0005144968...\n",
       "951   138  [(6, 0.3294931650161743), (44, 0.3283476829528...\n",
       "952   180  [(3, 0.20618794858455658), (17, 0.202116787433...\n",
       "953   932  [(28, 0.0001690514327492565), (0, 0.0001511459...\n",
       "954   483  [(19, 0.0032005629036575556), (40, 0.003130237...\n",
       "955   643  [(21, 0.00112468795850873), (31, 0.00110047985...\n",
       "956   104  [(13, 0.3542293906211853), (46, 0.324363887310...\n",
       "957   656  [(28, 0.0009215690079145133), (0, 0.0008982468...\n",
       "958   917  [(31, 0.0001822017802624032), (30, 0.000159032...\n",
       "959   468  [(13, 0.0049683284014463425), (27, 0.004201313...\n",
       "960   841  [(17, 0.00026970988255925477), (59, 0.00022414...\n",
       "961   134  [(0, 0.3917815387248993), (28, 0.2806417047977...\n",
       "962   584  [(2, 0.0018932725070044398), (57, 0.0016799016...\n",
       "963   878  [(1, 0.00022470857948064804), (25, 0.000221676...\n",
       "964   521  [(20, 0.0030512746889144182), (0, 0.0025995911...\n",
       "965   407  [(44, 0.009981812909245491), (6, 0.00912416446...\n",
       "966   788  [(6, 0.00046270026359707117), (44, 0.000407260...\n",
       "967   701  [(0, 0.0008113321382552385), (38, 0.0007702399...\n",
       "968   963  [(14, 0.00013393588596954942), (53, 0.00011596...\n",
       "969   617  [(25, 0.0010118563659489155), (2, 0.0009992998...\n",
       "970   393  [(0, 0.012693253345787525), (20, 0.00856569968...\n",
       "971   954  [(28, 0.00014698063023388386), (0, 0.000145576...\n",
       "972   315  [(30, 0.038456663489341736), (7, 0.03545763343...\n",
       "973    36  [(36, 0.538703441619873), (37, 0.4920608699321...\n",
       "974   187  [(0, 0.2343452274799347), (4, 0.23066088557243...\n",
       "975   208  [(21, 0.16726899147033691), (9, 0.154283016920...\n",
       "976   401  [(0, 0.00930134579539299), (76, 0.009014556184...\n",
       "977   422  [(53, 0.004998561926186085), (14, 0.0047313533...\n",
       "978   517  [(23, 0.0032061829697340727), (33, 0.002594627...\n",
       "979    89  [(7, 0.40959054231643677), (36, 0.366340279579...\n",
       "\n",
       "[980 rows x 2 columns]"
      ]
     },
     "execution_count": 180,
     "metadata": {},
     "output_type": "execute_result"
    }
   ],
   "source": [
    "user_recommended = user_recs.toPandas()\n",
    "user_recommended"
   ]
  },
  {
   "cell_type": "code",
   "execution_count": 181,
   "metadata": {},
   "outputs": [],
   "source": [
    "user_id = user_recommended.user[row_number]"
   ]
  },
  {
   "cell_type": "code",
   "execution_count": 172,
   "metadata": {},
   "outputs": [
    {
     "data": {
      "text/plain": [
       "numpy.int32"
      ]
     },
     "execution_count": 172,
     "metadata": {},
     "output_type": "execute_result"
    }
   ],
   "source": [
    "type(user_id)"
   ]
  },
  {
   "cell_type": "code",
   "execution_count": 182,
   "metadata": {},
   "outputs": [
    {
     "name": "stdout",
     "output_type": "stream",
     "text": [
      "zenorocha\n"
     ]
    }
   ],
   "source": [
    "# Usernme works\n",
    "user_name = emb2idxU[user_id]\n",
    "print(user_name)"
   ]
  },
  {
   "cell_type": "code",
   "execution_count": 176,
   "metadata": {},
   "outputs": [],
   "source": [
    "repo_id = user_recommended.recommendations[row_number][0].item"
   ]
  },
  {
   "cell_type": "code",
   "execution_count": 178,
   "metadata": {},
   "outputs": [
    {
     "data": {
      "text/plain": [
       "'jQuery-File-Upload'"
      ]
     },
     "execution_count": 178,
     "metadata": {},
     "output_type": "execute_result"
    }
   ],
   "source": [
    "repo_name = emb2idxR[repo_id]\n",
    "repo_name"
   ]
  }
 ],
 "metadata": {
  "kernelspec": {
   "display_name": "Python 3",
   "language": "python",
   "name": "python3"
  },
  "language_info": {
   "codemirror_mode": {
    "name": "ipython",
    "version": 3
   },
   "file_extension": ".py",
   "mimetype": "text/x-python",
   "name": "python",
   "nbconvert_exporter": "python",
   "pygments_lexer": "ipython3",
   "version": "3.6.5"
  }
 },
 "nbformat": 4,
 "nbformat_minor": 2
}
